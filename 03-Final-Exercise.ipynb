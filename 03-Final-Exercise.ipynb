{
 "cells": [
  {
   "cell_type": "markdown",
   "metadata": {},
   "source": [
    "<h1><div align=\"center\"> Final Exercise: Iteratively Optimize an Accelerated SAXPY Application</div></h1>"
   ]
  },
  {
   "cell_type": "markdown",
   "metadata": {},
   "source": [
    "A basic accelerated SAXPY (Single Precision a\\*x+b) application has been provided for you below. It currently contains a couple of bugs that you will need to find and fix before you can successfully compile, run, and then profile it with `nsys profile`. After fixing the bugs and profiling the application, record the runtime of the `saxpy` kernel and then work *iteratively* to optimize the application, using `nsys profile` after each iteration to notice the effects of the code changes on kernel performance and UM behavior. Your end goal is to profile an accurate `saxpy` kernel, without modifying `N`. "
   ]
  },
  {
   "cell_type": "code",
   "execution_count": null,
   "metadata": {},
   "outputs": [],
   "source": [
    "%%writefile 01-saxpy.cu\n",
    "#include <stdio.h>\n",
    "\n",
    "#define N 2048 * 2048 // Number of elements in each vector\n",
    "\n",
    "__global__ \n",
    "void saxpy(int * a, int * b, int * c)\n",
    "{\n",
    "  // Determine our unique global thread ID, so we know which element to process\n",
    "  int tid = blockIdx.x * blockDim.x + threadIdx.x;\n",
    "  int stride = blockDim.x * gridDim.x;\n",
    "  \n",
    "  for (int i = tid; i < N; i += stride)\n",
    "    c[i] = 2 * a[i] + b[i];\n",
    "}\n",
    "\n",
    "int main(int argc, char **argv)\n",
    "{\n",
    "  int *a, *b, *c;\n",
    "\n",
    "  int size = N * sizeof (int); // The total number of bytes per vector\n",
    "\n",
    "  int deviceId;\n",
    "  int numberOfSMs;\n",
    "\n",
    "  cudaGetDevice(&deviceId);\n",
    "  cudaDeviceGetAttribute(&numberOfSMs, cudaDevAttrMultiProcessorCount, deviceId);\n",
    "\n",
    "  // Allocate memory\n",
    "  cudaMallocManaged(&a, size);\n",
    "  cudaMallocManaged(&b, size);\n",
    "  cudaMallocManaged(&c, size);\n",
    "\n",
    "  // Initialize memory\n",
    "  for( int i = 0; i < N; ++i )\n",
    "  {\n",
    "    a[i] = 2;\n",
    "    b[i] = 1;\n",
    "    c[i] = 0;\n",
    "  }\n",
    "\n",
    "  cudaMemPrefetchAsync(a, size, deviceId);\n",
    "  cudaMemPrefetchAsync(b, size, deviceId);\n",
    "  cudaMemPrefetchAsync(c, size, deviceId);\n",
    "\n",
    "  int threads_per_block = 256;\n",
    "  int number_of_blocks = numberOfSMs * 32;\n",
    "\n",
    "  saxpy <<<number_of_blocks, threads_per_block>>>( a, b, c );\n",
    "\n",
    "  cudaDeviceSynchronize(); // Wait for the GPU to finish\n",
    "\n",
    "  // Print out the first and last 5 values of c for a quality check\n",
    "  for( int i = 0; i < 5; ++i )\n",
    "    printf(\"c[%d] = %d, \", i, c[i]);\n",
    "  printf (\"\\n\");\n",
    "  for( int i = N-5; i < N; ++i )\n",
    "    printf(\"c[%d] = %d, \", i, c[i]);\n",
    "  printf (\"\\n\");\n",
    "\n",
    "  // Free all our allocated memory\n",
    "  cudaFree( a ); \n",
    "  cudaFree( b ); \n",
    "  cudaFree( c );\n",
    "}"
   ]
  },
  {
   "cell_type": "code",
   "execution_count": null,
   "metadata": {},
   "outputs": [],
   "source": [
    "!nvcc 01-saxpy.cu -o saxpy"
   ]
  },
  {
   "cell_type": "code",
   "execution_count": null,
   "metadata": {},
   "outputs": [],
   "source": [
    "!nsys profile --stats=true ./saxpy"
   ]
  }
 ],
 "metadata": {
  "kernelspec": {
   "display_name": "Python 3 (ipykernel)",
   "language": "python",
   "name": "python3"
  },
  "language_info": {
   "codemirror_mode": {
    "name": "ipython",
    "version": 3
   },
   "file_extension": ".py",
   "mimetype": "text/x-python",
   "name": "python",
   "nbconvert_exporter": "python",
   "pygments_lexer": "ipython3",
   "version": "3.8.8"
  }
 },
 "nbformat": 4,
 "nbformat_minor": 4
}
