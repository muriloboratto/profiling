{
 "cells": [
  {
   "cell_type": "markdown",
   "metadata": {},
   "source": [
    "<h1><div align=\"center\"> Final Exercise: Iteratively Optimize an Accelerated SAXPY Application</div></h1>"
   ]
  },
  {
   "cell_type": "markdown",
   "metadata": {},
   "source": [
    "A basic accelerated SAXPY (Single Precision a\\*x+b) application has been provided below. It currently contains a couple of bugs you will need to find and fix before successfully compile, running, and then profile it with `nsys profile`. After fixing the bugs and profiling the application, record the runtime of the `saxpy` kernel and then work *iteratively* to optimize the application, using `nsys profile` after each iteration to notice the effects of the code changes on kernel performance and UM behavior. Your end goal is to profile an accurate `saxpy` kernel without modifying `N`, and compare prefetching performance options in the code. "
   ]
  },
  {
   "cell_type": "code",
   "execution_count": 1,
   "metadata": {},
   "outputs": [
    {
     "name": "stdout",
     "output_type": "stream",
     "text": [
      "Writing saxpy.cu\n"
     ]
    }
   ],
   "source": [
    "%%writefile saxpy.cu\n",
    "#include <stdio.h>\n",
    "\n",
    "#define N 2048 * 2048 // Number of elements in each vector\n",
    "\n",
    "__global__ \n",
    "void saxpy(int * a, int * b, int * c)\n",
    "{\n",
    "  int tid = blockIdx.x * blockDim.x + threadIdx.x;\n",
    "  int stride = blockDim.x * gridDim.x;\n",
    "  \n",
    "  for (int i = tid; i < N; i += stride)\n",
    "    c[i] = 2 * a[i] + b[i];\n",
    "}\n",
    "\n",
    "int main(int argc, char **argv)\n",
    "{\n",
    "  int *a, *b, *c;\n",
    "\n",
    "  int size = N * sizeof (int);\n",
    "\n",
    "  int deviceId;\n",
    "  int numberOfSMs;\n",
    "\n",
    "  cudaGetDevice(&deviceId);\n",
    "  cudaDeviceGetAttribute(&numberOfSMs, cudaDevAttrMultiProcessorCount, deviceId);\n",
    "\n",
    "  // Allocate memory\n",
    "  cudaMallocManaged(&a, size);\n",
    "  cudaMallocManaged(&b, size);\n",
    "  cudaMallocManaged(&c, size);\n",
    "\n",
    "  // Initialize memory\n",
    "  for( int i = 0; i < N; ++i )\n",
    "  {\n",
    "    a[i] = 2000;\n",
    "    b[i] = 1000;\n",
    "    c[i] = 0;\n",
    "  }\n",
    "\n",
    "  cudaMemPrefetchAsync(a, size, deviceId);\n",
    "  cudaMemPrefetchAsync(b, size, deviceId);\n",
    "  cudaMemPrefetchAsync(c, size, deviceId);\n",
    "\n",
    "  int threads_per_block = 256;\n",
    "  int number_of_blocks = numberOfSMs * 32;\n",
    "\n",
    "       saxpy <<<number_of_blocks, threads_per_block>>>( a, b, c );\n",
    "\n",
    "  cudaDeviceSynchronize(); // Wait for the GPU to finish\n",
    "\n",
    "  // Print out the first and last 5 values of c for a quality check\n",
    "  for( int i = 0; i < 5; ++i )\n",
    "    printf(\"c[%d] = %d, \", i, c[i]);\n",
    "  printf (\"\\n\");\n",
    "  for( int i = N-5; i < N; ++i )\n",
    "    printf(\"c[%d] = %d, \", i, c[i]);\n",
    "  printf (\"\\n\");\n",
    "\n",
    "  // Free all our allocated memory\n",
    "  cudaFree( a ); \n",
    "  cudaFree( b ); \n",
    "  cudaFree( c );\n",
    "}"
   ]
  },
  {
   "cell_type": "code",
   "execution_count": 2,
   "metadata": {},
   "outputs": [],
   "source": [
    "!nvcc saxpy.cu -o saxpy"
   ]
  },
  {
   "cell_type": "code",
   "execution_count": 3,
   "metadata": {},
   "outputs": [
    {
     "name": "stdout",
     "output_type": "stream",
     "text": [
      "c[0] = 5000, c[1] = 5000, c[2] = 5000, c[3] = 5000, c[4] = 5000, \n",
      "c[4194299] = 5000, c[4194300] = 5000, c[4194301] = 5000, c[4194302] = 5000, c[4194303] = 5000, \n",
      "Generating '/tmp/nsys-report-17ad.qdstrm'\n",
      "[1/8] [========================100%] saxpy-report.nsys-rep\n",
      "[2/8] [========================100%] saxpy-report.sqlite\n",
      "[3/8] Executing 'nvtxsum' stats report\n",
      "SKIPPED: /home/murilo/profiling/saxpy-report.sqlite does not contain NV Tools Extension (NVTX) data.\n",
      "[4/8] Executing 'osrtsum' stats report\n",
      "\n",
      "Operating System Runtime API Statistics:\n",
      "\n",
      " Time (%)  Total Time (ns)  Num Calls    Avg (ns)     Med (ns)    Min (ns)   Max (ns)    StdDev (ns)        Name     \n",
      " --------  ---------------  ---------  ------------  -----------  --------  -----------  ------------  --------------\n",
      "     64,0      294.410.206         25  11.776.408,0  2.982.399,0     1.858  100.115.692  20.967.666,0  poll          \n",
      "     19,0       86.435.481      1.017      84.990,0     20.619,0     1.020   28.961.871     930.472,0  ioctl         \n",
      "     10,0       46.233.491         18   2.568.527,0    107.166,0    26.612   21.537.912   5.802.718,0  sem_timedwait \n",
      "      3,0       15.890.558         53     299.821,0      4.365,0     1.496   14.374.370   1.973.147,0  fopen         \n",
      "      1,0        5.605.498         34     164.867,0      3.954,0     1.337    1.897.226     519.466,0  mmap          \n",
      "      0,0        2.552.371         46      55.486,0      5.579,0     2.972    1.962.287     287.818,0  mmap64        \n",
      "      0,0        1.037.522          5     207.504,0    131.871,0   111.254      511.363     171.374,0  pthread_create\n",
      "      0,0          963.867         46      20.953,0      3.887,0     1.899      385.352      62.075,0  fclose        \n",
      "      0,0          740.642          3     246.880,0    191.843,0   137.821      410.978     144.656,0  sem_wait      \n",
      "      0,0          425.014         87       4.885,0      4.510,0     2.067       20.259       2.157,0  open64        \n",
      "      0,0          332.508          5      66.501,0     64.702,0     1.012      148.926      53.112,0  fcntl         \n",
      "      0,0          160.261          3      53.420,0     73.674,0    11.592       74.995      36.230,0  fread         \n",
      "      0,0           47.129          1      47.129,0     47.129,0    47.129       47.129           0,0  fgets         \n",
      "      0,0           46.687         14       3.334,0      3.498,0     2.379        4.451         624,0  write         \n",
      "      0,0           32.322          6       5.387,0      3.929,0     3.117        9.817       2.900,0  open          \n",
      "      0,0           26.104         12       2.175,0      1.932,0     1.235        3.913         804,0  read          \n",
      "      0,0           19.894          9       2.210,0      2.171,0     1.442        3.163         618,0  munmap        \n",
      "      0,0           12.838          5       2.567,0      2.239,0     2.099        3.185         547,0  mprotect      \n",
      "      0,0           10.038          2       5.019,0      5.019,0     3.438        6.600       2.235,0  socket        \n",
      "      0,0            9.310          1       9.310,0      9.310,0     9.310        9.310           0,0  connect       \n",
      "      0,0            6.639          1       6.639,0      6.639,0     6.639        6.639           0,0  fflush        \n",
      "      0,0            6.237          1       6.237,0      6.237,0     6.237        6.237           0,0  fwrite        \n",
      "      0,0            4.282          1       4.282,0      4.282,0     4.282        4.282           0,0  pipe2         \n",
      "      0,0            1.586          1       1.586,0      1.586,0     1.586        1.586           0,0  bind          \n",
      "\n",
      "[5/8] Executing 'cudaapisum' stats report\n",
      "\n",
      "CUDA API Statistics:\n",
      "\n",
      " Time (%)  Total Time (ns)  Num Calls    Avg (ns)     Med (ns)    Min (ns)    Max (ns)     StdDev (ns)           Name         \n",
      " --------  ---------------  ---------  ------------  -----------  ---------  -----------  -------------  ---------------------\n",
      "     93,0      188.530.312          3  62.843.437,0     29.228,0     19.810  188.481.274  108.805.558,0  cudaMallocManaged    \n",
      "      2,0        5.583.964          1   5.583.964,0  5.583.964,0  5.583.964    5.583.964            0,0  cudaDeviceSynchronize\n",
      "      2,0        5.556.730          3   1.852.243,0  1.925.975,0  1.695.322    1.935.433      135.980,0  cudaFree             \n",
      "      1,0        2.517.733          3     839.244,0    387.031,0      9.692    2.121.010    1.125.961,0  cudaMemPrefetchAsync \n",
      "      0,0           55.861          1      55.861,0     55.861,0     55.861       55.861            0,0  cudaLaunchKernel     \n",
      "\n",
      "[6/8] Executing 'gpukernsum' stats report\n",
      "\n",
      "CUDA Kernel Statistics:\n",
      "\n",
      " Time (%)  Total Time (ns)  Instances  Avg (ns)  Med (ns)  Min (ns)  Max (ns)  StdDev (ns)             Name           \n",
      " --------  ---------------  ---------  --------  --------  --------  --------  -----------  --------------------------\n",
      "    100,0           74.624          1  74.624,0  74.624,0    74.624    74.624          0,0  saxpy(int *, int *, int *)\n",
      "\n",
      "[7/8] Executing 'gpumemtimesum' stats report\n",
      "\n",
      "CUDA Memory Operation Statistics (by time):\n",
      "\n",
      " Time (%)  Total Time (ns)  Count  Avg (ns)   Med (ns)   Min (ns)  Max (ns)  StdDev (ns)              Operation            \n",
      " --------  ---------------  -----  ---------  ---------  --------  --------  -----------  ---------------------------------\n",
      "     99,0        4.193.614     24  174.733,0  174.639,0   173.887   175.615        493,0  [CUDA Unified Memory memcpy HtoD]\n",
      "      0,0           16.029      4    4.007,0    4.063,0     1.951     5.951      2.141,0  [CUDA Unified Memory memcpy DtoH]\n",
      "\n",
      "[8/8] Executing 'gpumemsizesum' stats report\n",
      "\n",
      "CUDA Memory Operation Statistics (by size):\n",
      "\n",
      " Total (MB)  Count  Avg (MB)  Med (MB)  Min (MB)  Max (MB)  StdDev (MB)              Operation            \n",
      " ----------  -----  --------  --------  --------  --------  -----------  ---------------------------------\n",
      " 50,332         24  2,097     2,097     2,097     2,097     0,000        [CUDA Unified Memory memcpy HtoD]\n",
      " 0,131           4  0,033     0,033     0,004     0,061     0,033        [CUDA Unified Memory memcpy DtoH]\n",
      "\n",
      "Generated:\n",
      "    /home/murilo/profiling/saxpy-report.nsys-rep\n",
      "    /home/murilo/profiling/saxpy-report.sqlite\n"
     ]
    }
   ],
   "source": [
    "!nsys profile --stats=true -o saxpy-report ./saxpy"
   ]
  },
  {
   "cell_type": "markdown",
   "metadata": {},
   "source": [
    "### ☆ Questions:\n",
    "\n",
    "- What's the difference between the Timelines of Prefetching and Non-Prefetching? \n",
    "\n",
    "- Can we further improve the performance of the best code?"
   ]
  },
  {
   "cell_type": "markdown",
   "metadata": {},
   "source": [
    "## Clear the Temporary Files"
   ]
  },
  {
   "cell_type": "markdown",
   "metadata": {},
   "source": [
    "Before moving on, please execute the following cell to clear up the directory. This is required to move on to the next notebook."
   ]
  },
  {
   "cell_type": "code",
   "execution_count": 4,
   "metadata": {},
   "outputs": [],
   "source": [
    "!rm -rf *saxpy* "
   ]
  }
 ],
 "metadata": {
  "kernelspec": {
   "display_name": "Python 3 (ipykernel)",
   "language": "python",
   "name": "python3"
  },
  "language_info": {
   "codemirror_mode": {
    "name": "ipython",
    "version": 3
   },
   "file_extension": ".py",
   "mimetype": "text/x-python",
   "name": "python",
   "nbconvert_exporter": "python",
   "pygments_lexer": "ipython3",
   "version": "3.9.16"
  }
 },
 "nbformat": 4,
 "nbformat_minor": 4
}
